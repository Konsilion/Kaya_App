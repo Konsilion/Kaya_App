{
 "cells": [
  {
   "cell_type": "code",
   "execution_count": 1,
   "id": "986f237a-f437-4b37-88ff-5a232ea414c4",
   "metadata": {
    "tags": [
     "parameters"
    ]
   },
   "outputs": [],
   "source": [
    "# =========== PARAMETRES JUPYTER FLEX ===========\n",
    "\n",
    "flex_subtitle = \"Konsilion ingénieries\"\n",
    "flex_external_link = \"https://konsilion.fr\"\n",
    "flex_custom_css = \"./extra.css\"\n",
    "flex_title = \"Equation de Kaya\"\n",
    "flex_orientation = \"rows\"\n",
    "#flex_show_source = True"
   ]
  },
  {
   "cell_type": "code",
   "execution_count": 2,
   "id": "dcb633ed-0f19-44cf-b73b-3703897a1315",
   "metadata": {
    "tags": []
   },
   "outputs": [],
   "source": [
    "# =========== MODULES PYTHON-CONDA ===========\n",
    "\n",
    "import numpy as np\n",
    "from bqplot import pyplot as plt\n",
    "import ipywidgets as widgets\n",
    "from IPython.display import clear_output, display\n",
    "\n",
    "from ipywidgets import interact, fixed\n",
    "from numpy.random import rand\n",
    "\n",
    "#from IPython.display import set_matplotlib_formats\n",
    "#import matplotlib_inline.backend_inline\n",
    "#%matplotlib inline\n",
    "#matplotlib_inline.backend_inline.set_matplotlib_formats('svg')\n",
    "#np.random.seed(42)"
   ]
  },
  {
   "cell_type": "code",
   "execution_count": 3,
   "id": "cc259a0b-9d6d-4eb2-9743-e99a9ee3d22f",
   "metadata": {
    "tags": []
   },
   "outputs": [],
   "source": [
    "# =========== MES CONSTANTES ===========\n",
    "num = 100\n",
    "PIB_init = 2.94\n",
    "POP_init = 7\n",
    "EFF_init = 3"
   ]
  },
  {
   "cell_type": "code",
   "execution_count": 4,
   "id": "8b9080aa-e80a-494b-93ea-92e291454675",
   "metadata": {
    "tags": []
   },
   "outputs": [],
   "source": [
    "# =========== MES FONCTIONS ===========\n",
    "\n",
    "def my_PIB(x, PIB, n):\n",
    "    \"\"\"\n",
    "    Commentaire : \n",
    "    \"\"\"\n",
    "    result_t = [PIB_init]\n",
    "    for i in range(1, n): \n",
    "        value = ((1+PIB/100) * result_t[i-1])\n",
    "        result_t.append(value)       \n",
    "    return result_t\n",
    "\n",
    "def my_POP(x, POP, n):\n",
    "    \"\"\"\n",
    "    Commentaire :\n",
    "    \"\"\"\n",
    "    result_t = [POP_init]\n",
    "    for i in range(1, n):\n",
    "        value = ((1+POP/100) * result_t[i-1])\n",
    "        result_t.append(value)       \n",
    "    return result_t\n",
    "\n",
    "def my_EFF(x, EFF, n):\n",
    "    \"\"\"\n",
    "    Commentaire :\n",
    "    \"\"\"\n",
    "    result_t = [EFF_init]\n",
    "    for i in range(1, n): \n",
    "        value = ((1-EFF/100) * result_t[i-1])\n",
    "        result_t.append(value)       \n",
    "    return result_t"
   ]
  },
  {
   "cell_type": "code",
   "execution_count": 5,
   "id": "3394781d-6002-45aa-895c-89d2a61e0314",
   "metadata": {},
   "outputs": [],
   "source": [
    "# =========== MES WIDGETS ===========\n",
    "\n",
    "PIB_label = widgets.Label(value=\"Produit Interieur Brut\")\n",
    "PIB_var = widgets.FloatSlider(value=2, min=0, max=10, step=0.1)\n",
    "POP_label = widgets.Label(value=\"Population\")\n",
    "POP_var = widgets.FloatSlider(value=2, min=0, max=10, step=0.1)\n",
    "EFF_label = widgets.Label(value=\"Intensité carbone - énergie\")\n",
    "EFF_var = widgets.FloatSlider(value=1.5, min=0, max=10, step=0.1)\n",
    "ECO_label = widgets.Label(value=\"Intensité énergétique - économie\")\n",
    "ECO_var = widgets.FloatSlider(value=1.75, min=0, max=10, step=0.1)\n",
    "mon_slider_label = widgets.Label(value=\"Slider\")\n",
    "mon_slider = widgets.FloatSlider(value=1, min=-10, max=30, step=0.1)\n",
    "dropdown = widgets.Dropdown(options=['parabole', 'sinus', 'hasard'], value='parabole')"
   ]
  },
  {
   "cell_type": "markdown",
   "id": "63b9ca83-db44-469d-a034-4b9287da193a",
   "metadata": {},
   "source": [
    "# Accueil"
   ]
  },
  {
   "cell_type": "markdown",
   "id": "7cf2c7d1-4ea3-47f1-83fb-0831d638d9da",
   "metadata": {},
   "source": [
    "## Column 1"
   ]
  },
  {
   "cell_type": "markdown",
   "id": "1e9e36ab-9e35-4c4e-b1d6-aca1b32b8551",
   "metadata": {
    "tags": []
   },
   "source": [
    "### PIB"
   ]
  },
  {
   "cell_type": "code",
   "execution_count": 8,
   "id": "7454cd79-2370-4366-a4c8-2a98221fb689",
   "metadata": {
    "tags": [
     "body"
    ]
   },
   "outputs": [
    {
     "data": {
      "application/vnd.jupyter.widget-view+json": {
       "model_id": "0aa10ccccca04deab759aea916081963",
       "version_major": 2,
       "version_minor": 0
      },
      "text/plain": [
       "Figure(animation_duration=300, axes=[Axis(label='Années', scale=LinearScale()), Axis(orientation='vertical', s…"
      ]
     },
     "metadata": {},
     "output_type": "display_data"
    }
   ],
   "source": [
    "# =========== UN BODY ===========\n",
    "''' \n",
    "Commentaire/ Objectif : Mettre le PIB en graphique\n",
    "'''\n",
    "# -----> Fonction de modification/ observe\n",
    "def PIB_plt(change):    \n",
    "    value_f = PIB_var.value   \n",
    "    with PIB_trace.hold_sync(): \n",
    "        PIB_trace.x = x\n",
    "        PIB_trace.y = my_PIB(x, value_f, num)\n",
    "PIB_var.observe(PIB_plt, names='value')\n",
    "\n",
    "# -----> Affichage    \n",
    "x = np.linspace(2000, 2100, num)\n",
    "PIB_fig = plt.figure(animation_duration = 300)\n",
    "PIB_trace = plt.plot(x, my_PIB(x, PIB_init, num))\n",
    "plt.xlabel('Années')\n",
    "plt.ylabel('PIB en $ brut')\n",
    "display(PIB_fig)"
   ]
  },
  {
   "cell_type": "markdown",
   "id": "766f98c2-4c08-42cc-9212-c3055d20d0e9",
   "metadata": {
    "tags": []
   },
   "source": [
    "## Column 2"
   ]
  },
  {
   "cell_type": "markdown",
   "id": "952aca13-34dc-44b1-9f5f-04ca7b4e9bd3",
   "metadata": {},
   "source": [
    "### Courbe aléatoire"
   ]
  },
  {
   "cell_type": "code",
   "execution_count": null,
   "id": "038fef9f-a527-42b9-b494-0a9a89bdd3d6",
   "metadata": {
    "tags": [
     "body"
    ]
   },
   "outputs": [],
   "source": [
    "# =========== UN BODY ===========\n",
    "''' \n",
    "Commentaire/ Objectif :\n",
    "'''\n",
    "# -----> Fonction de modification/ observe\n",
    "def choix_fonction(change):\n",
    "    value_f = dropdown.value\n",
    "    if value_f=='parabole':\n",
    "        with mon_trace.hold_sync():\n",
    "            mon_trace.x = x\n",
    "            mon_trace.y = x**2\n",
    "            #plt.ylabel('x au carré')\n",
    "    if value_f=='sinus':\n",
    "        with mon_trace.hold_sync():\n",
    "            mon_trace.x = x\n",
    "            mon_trace.y = np.sin(x)\n",
    "            #plt.ylabel('sin(x)')\n",
    "    if value_f=='hasard':\n",
    "        with mon_trace.hold_sync():\n",
    "            mon_trace.x = x\n",
    "            mon_trace.y = rand(len(x))\n",
    "            #plt.ylabel('Nombres aléatoires')\n",
    "dropdown.observe(choix_fonction, names='value')\n",
    "\n",
    "# -----> Affichage\n",
    "            \n",
    "x = np.arange(0,10,0.1)\n",
    "ma_figure = plt.figure(animation_duration = 300)\n",
    "mon_trace = plt.scatter(x, x**2, enable_move=True)\n",
    "plt.ylabel('Valeur de Y')\n",
    "\n",
    "display(ma_figure)"
   ]
  },
  {
   "cell_type": "markdown",
   "id": "6f3f67d0-ceb7-42b0-b6f8-7cc809243053",
   "metadata": {
    "tags": [
     "sidebar"
    ]
   },
   "source": [
    "# Sidebar"
   ]
  },
  {
   "cell_type": "markdown",
   "id": "7d1f94ab-9c55-449b-885b-74bd8f043f4b",
   "metadata": {},
   "source": [
    "### Nos paramètre"
   ]
  },
  {
   "cell_type": "code",
   "execution_count": null,
   "id": "62512ef9-5f5f-45c8-b84c-f5e6ab559f27",
   "metadata": {
    "tags": [
     "body"
    ]
   },
   "outputs": [],
   "source": [
    "display(PIB_label, PIB_var, POP_label, POP_var, EFF_label, EFF_var,mon_slider_label, mon_slider, dropdown)"
   ]
  },
  {
   "cell_type": "markdown",
   "id": "9e4b495e-9a60-457e-b662-a5d54314c3ca",
   "metadata": {
    "tags": [
     "footer"
    ]
   },
   "source": [
    "Licence Creative Commons CC-BY-SA - Konsilion ingénieries"
   ]
  }
 ],
 "metadata": {
  "kernelspec": {
   "display_name": "Python 3 (ipykernel)",
   "language": "python",
   "name": "python3"
  },
  "language_info": {
   "codemirror_mode": {
    "name": "ipython",
    "version": 3
   },
   "file_extension": ".py",
   "mimetype": "text/x-python",
   "name": "python",
   "nbconvert_exporter": "python",
   "pygments_lexer": "ipython3",
   "version": "3.10.6"
  }
 },
 "nbformat": 4,
 "nbformat_minor": 5
}
